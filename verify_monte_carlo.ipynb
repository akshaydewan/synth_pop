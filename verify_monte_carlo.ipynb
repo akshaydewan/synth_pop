{
 "cells": [
  {
   "cell_type": "code",
   "execution_count": 10,
   "metadata": {},
   "outputs": [],
   "source": [
    "import pandas as pd\n",
    "\n",
    "df = pd.read_csv('population.csv')"
   ]
  },
  {
   "cell_type": "code",
   "execution_count": 11,
   "metadata": {},
   "outputs": [
    {
     "data": {
      "text/plain": [
       "age\n",
       "00-04    0.861843\n",
       "05-09    0.492063\n",
       "10-14    0.453426\n",
       "15-19    1.248018\n",
       "20-24    0.676095\n",
       "25-29    0.886328\n",
       "30-34    0.777176\n",
       "35-39    0.466691\n",
       "40-44    0.250826\n",
       "45-49    0.285510\n",
       "50-54    0.924243\n",
       "55-59    0.669148\n",
       "60-64   -0.277601\n",
       "65-69    1.081814\n",
       "70-74    1.114662\n",
       "75-79   -0.191558\n",
       "80+     -0.248251\n",
       "dtype: float64"
      ]
     },
     "metadata": {},
     "output_type": "display_data"
    },
    {
     "data": {
      "text/plain": [
       "age\n",
       "00-04    0.672199\n",
       "05-09    0.588496\n",
       "10-14    0.420771\n",
       "15-19    0.292136\n",
       "20-24    0.948305\n",
       "25-29    0.464744\n",
       "30-34    1.092842\n",
       "35-39    0.698487\n",
       "40-44    0.771744\n",
       "45-49    0.805613\n",
       "50-54    0.568036\n",
       "55-59    0.859354\n",
       "60-64    0.560592\n",
       "65-69    0.970375\n",
       "70-74    0.606678\n",
       "75-79    0.145651\n",
       "80+      1.648717\n",
       "dtype: float64"
      ]
     },
     "metadata": {},
     "output_type": "display_data"
    }
   ],
   "source": [
    "# Checking Age distribution\n",
    "age_grouping_with_sex = df.groupby(['age', 'sex']).count()['ind']\n",
    "age_grouping_with_sex = age_grouping_with_sex.unstack()\n",
    "\n",
    "expected_df = pd.read_csv('Pune_Age_dist_by_sex.csv', index_col='Age_Group')\n",
    "expected_df = expected_df.drop('All ages').drop('Age not stated')\n",
    "\n",
    "error_female_ages = (age_grouping_with_sex['F'] - expected_df['Total_Females'])/expected_df['Total_Females']\n",
    "display(error_female_ages * 100)\n",
    "\n",
    "error_male_ages = (age_grouping_with_sex['M'] - expected_df['Total_Males'])/expected_df['Total_Males']\n",
    "display(error_male_ages * 100)"
   ]
  },
  {
   "cell_type": "code",
   "execution_count": 12,
   "metadata": {},
   "outputs": [
    {
     "data": {
      "text/plain": [
       "age\n",
       "05-09    1.278409\n",
       "10-14   -0.681625\n",
       "15-19    1.649532\n",
       "20-24    0.685167\n",
       "25-29    0.354941\n",
       "30-34    0.918588\n",
       "35-39    0.603527\n",
       "40-49    0.826116\n",
       "50-59    0.633956\n",
       "60-69    0.598434\n",
       "70-79    0.039515\n",
       "80+      3.676471\n",
       "dtype: float64"
      ]
     },
     "metadata": {},
     "output_type": "display_data"
    },
    {
     "data": {
      "text/plain": [
       "age\n",
       "05-09   -2.254987\n",
       "10-14    3.374083\n",
       "15-19    1.411798\n",
       "20-24    0.298959\n",
       "25-29    1.169446\n",
       "30-34   -0.068188\n",
       "35-39    0.410997\n",
       "40-49   -0.100227\n",
       "50-59   -0.360430\n",
       "60-69   -0.215216\n",
       "70-79    1.204819\n",
       "80+     -2.292264\n",
       "dtype: float64"
      ]
     },
     "metadata": {},
     "output_type": "display_data"
    }
   ],
   "source": [
    "working_age_sex = df.groupby(['age', 'working', 'sex'])\n",
    "working_age_sex = working_age_sex.count()['ind'].unstack().unstack()\n",
    "\n",
    "s = working_age_sex.loc[\"40-44\"] + working_age_sex.loc[\"45-49\"]\n",
    "s.name = \"40-49\"\n",
    "working_age_sex = working_age_sex.append(s).drop(\"40-44\").drop('45-49')\n",
    "\n",
    "s = working_age_sex.loc[\"50-54\"] + working_age_sex.loc[\"55-59\"]\n",
    "s.name = \"50-59\"\n",
    "working_age_sex = working_age_sex.append(s).drop(\"50-54\").drop(\"55-59\")\n",
    "\n",
    "s = working_age_sex.loc[\"60-64\"] + working_age_sex.loc[\"65-69\"]\n",
    "s.name = \"60-69\"\n",
    "working_age_sex = working_age_sex.append(s).drop(\"60-64\").drop(\"65-69\")\n",
    "\n",
    "s = working_age_sex.loc[\"70-74\"] + working_age_sex.loc[\"75-79\"]\n",
    "s.name = \"70-79\"\n",
    "working_age_sex = working_age_sex.append(s).drop(\"70-74\").drop(\"75-79\")\n",
    "\n",
    "working_age_sex = working_age_sex.drop('00-04').sort_index()\n",
    "\n",
    "expected_df = pd.read_csv('pune_workers.csv', index_col='Age_Group').drop('Total').drop('Age not stated')\n",
    "\n",
    "male_workers_err = (working_age_sex[\"M\"][True] - expected_df['Main_Workers_Males']) / expected_df['Main_Workers_Males']\n",
    "\n",
    "female_workers_err = (working_age_sex[\"F\"][True] - expected_df['Main_Workers_Females']) / expected_df['Main_Workers_Females']\n",
    "\n",
    "display(male_workers_err * 100)\n",
    "display(female_workers_err * 100)\n"
   ]
  },
  {
   "cell_type": "code",
   "execution_count": 19,
   "metadata": {},
   "outputs": [
    {
     "data": {
      "text/plain": [
       "0.19969020906457494"
      ]
     },
     "execution_count": 19,
     "metadata": {},
     "output_type": "execute_result"
    }
   ],
   "source": [
    "total_uses_pub_transport = df.groupby('pub_transport').count()[\"ind\"][True]\n",
    "total_working = df.groupby('working').count()[\"ind\"][True]\n",
    "total_uses_pub_transport / total_working"
   ]
  },
  {
   "cell_type": "code",
   "execution_count": null,
   "metadata": {},
   "outputs": [],
   "source": []
  }
 ],
 "metadata": {
  "kernelspec": {
   "display_name": "Python 3",
   "language": "python",
   "name": "python3"
  },
  "language_info": {
   "codemirror_mode": {
    "name": "ipython",
    "version": 3
   },
   "file_extension": ".py",
   "mimetype": "text/x-python",
   "name": "python",
   "nbconvert_exporter": "python",
   "pygments_lexer": "ipython3",
   "version": "3.7.6"
  }
 },
 "nbformat": 4,
 "nbformat_minor": 4
}
