{
 "cells": [
  {
   "cell_type": "code",
   "execution_count": 1,
   "metadata": {
    "pycharm": {
     "is_executing": false
    }
   },
   "outputs": [],
   "source": [
    "import pandas as pd\n",
    "\n",
    "df = pd.read_csv('output.csv')"
   ]
  },
  {
   "cell_type": "code",
   "execution_count": 2,
   "metadata": {
    "pycharm": {
     "is_executing": false
    }
   },
   "outputs": [
    {
     "data": {
      "text/plain": [
       "age\n",
       "00-04    0.673304\n",
       "05-09   -0.099526\n",
       "10-14    0.239968\n",
       "15-19    0.426120\n",
       "20-24    0.330770\n",
       "25-29    0.648633\n",
       "30-34    0.528169\n",
       "35-39    0.452449\n",
       "40-44    0.341376\n",
       "45-49    0.603849\n",
       "50-54    0.465853\n",
       "55-59    0.871575\n",
       "60-64    0.524167\n",
       "65-69    1.008482\n",
       "70-74   -0.079696\n",
       "75-79    0.800922\n",
       "80+      1.359081\n",
       "dtype: float64"
      ]
     },
     "metadata": {},
     "output_type": "display_data"
    },
    {
     "data": {
      "text/plain": [
       "age\n",
       "00-04    0.494954\n",
       "05-09    0.211411\n",
       "10-14    0.243534\n",
       "15-19    0.504128\n",
       "20-24    0.505874\n",
       "25-29    0.771196\n",
       "30-34    0.498529\n",
       "35-39    0.389215\n",
       "40-44    0.565316\n",
       "45-49    0.396347\n",
       "50-54    0.838119\n",
       "55-59    0.637942\n",
       "60-64    1.112622\n",
       "65-69    0.939400\n",
       "70-74    2.537032\n",
       "75-79   -0.615304\n",
       "80+     -0.771193\n",
       "dtype: float64"
      ]
     },
     "metadata": {},
     "output_type": "display_data"
    }
   ],
   "source": [
    "# Checking Age distribution\n",
    "age_grouping_with_sex = df.groupby(['age', 'sex']).count()['ind']\n",
    "age_grouping_with_sex = age_grouping_with_sex.unstack()\n",
    "\n",
    "expected_df = pd.read_csv('age_dist_by_sex.csv', index_col='Age_Group')\n",
    "expected_df = expected_df.drop('All ages').drop('Age not stated')\n",
    "\n",
    "error_female_ages = (age_grouping_with_sex['F'] - expected_df['Total_Females'])/expected_df['Total_Females']\n",
    "display(error_female_ages * 100)\n",
    "\n",
    "error_male_ages = (age_grouping_with_sex['M'] - expected_df['Total_Males'])/expected_df['Total_Males']\n",
    "display(error_male_ages * 100)"
   ]
  },
  {
   "cell_type": "code",
   "execution_count": 4,
   "metadata": {
    "pycharm": {
     "is_executing": false
    }
   },
   "outputs": [
    {
     "data": {
      "text/plain": [
       "age\n",
       "05-09    4.492940\n",
       "10-14   -0.103885\n",
       "15-19    0.469930\n",
       "20-24    0.479179\n",
       "25-29    0.741209\n",
       "30-34    0.457345\n",
       "35-39    0.316483\n",
       "40-49    0.519552\n",
       "50-59    0.612426\n",
       "60-69    0.663495\n",
       "70-79    1.014415\n",
       "80+     -1.463415\n",
       "dtype: float64"
      ]
     },
     "metadata": {},
     "output_type": "display_data"
    },
    {
     "data": {
      "text/plain": [
       "age\n",
       "05-09   -3.249768\n",
       "10-14    2.799122\n",
       "15-19    0.772840\n",
       "20-24   -0.150171\n",
       "25-29    0.948989\n",
       "30-34   -0.264363\n",
       "35-39    0.355802\n",
       "40-49   -0.046632\n",
       "50-59    0.130454\n",
       "60-69    2.097058\n",
       "70-79   -0.460340\n",
       "80+     -3.855232\n",
       "dtype: float64"
      ]
     },
     "metadata": {},
     "output_type": "display_data"
    }
   ],
   "source": [
    "working_age_sex = df.groupby(['age', 'working', 'sex'])\n",
    "working_age_sex = working_age_sex.count()['ind'].unstack().unstack()\n",
    "\n",
    "s = working_age_sex.loc[\"40-44\"] + working_age_sex.loc[\"45-49\"]\n",
    "s.name = \"40-49\"\n",
    "working_age_sex = working_age_sex.append(s).drop(\"40-44\").drop('45-49')\n",
    "\n",
    "s = working_age_sex.loc[\"50-54\"] + working_age_sex.loc[\"55-59\"]\n",
    "s.name = \"50-59\"\n",
    "working_age_sex = working_age_sex.append(s).drop(\"50-54\").drop(\"55-59\")\n",
    "\n",
    "s = working_age_sex.loc[\"60-64\"] + working_age_sex.loc[\"65-69\"]\n",
    "s.name = \"60-69\"\n",
    "working_age_sex = working_age_sex.append(s).drop(\"60-64\").drop(\"65-69\")\n",
    "\n",
    "s = working_age_sex.loc[\"70-74\"] + working_age_sex.loc[\"75-79\"]\n",
    "s.name = \"70-79\"\n",
    "working_age_sex = working_age_sex.append(s).drop(\"70-74\").drop(\"75-79\")\n",
    "\n",
    "working_age_sex = working_age_sex.drop('00-04').sort_index()\n",
    "\n",
    "expected_df = pd.read_csv('workers.csv', index_col='Age_Group').drop('Total').drop('Age not stated')\n",
    "\n",
    "male_workers_err = (working_age_sex[\"M\"][True] - expected_df['Main_Working_Males']) / expected_df['Main_Working_Males']\n",
    "\n",
    "female_workers_err = (working_age_sex[\"F\"][True] - expected_df['Main_Working_Females']) / expected_df['Main_Working_Females']\n",
    "\n",
    "display(male_workers_err * 100)\n",
    "display(female_workers_err * 100)\n"
   ]
  },
  {
   "cell_type": "code",
   "execution_count": 5,
   "metadata": {
    "pycharm": {
     "is_executing": false
    }
   },
   "outputs": [
    {
     "data": {
      "text/plain": [
       "0.1999189016972716"
      ]
     },
     "execution_count": 5,
     "metadata": {},
     "output_type": "execute_result"
    }
   ],
   "source": [
    "total_uses_pub_transport = df.groupby('pub_transport').count()[\"ind\"][True]\n",
    "total_working = df.groupby('working').count()[\"ind\"][True]\n",
    "total_uses_pub_transport / total_working"
   ]
  },
  {
   "cell_type": "code",
   "execution_count": null,
   "metadata": {
    "pycharm": {
     "is_executing": false
    }
   },
   "outputs": [],
   "source": []
  }
 ],
 "metadata": {
  "kernelspec": {
   "display_name": "Python 3",
   "language": "python",
   "name": "python3"
  },
  "language_info": {
   "codemirror_mode": {
    "name": "ipython",
    "version": 3
   },
   "file_extension": ".py",
   "mimetype": "text/x-python",
   "name": "python",
   "nbconvert_exporter": "python",
   "pygments_lexer": "ipython3",
   "version": "3.7.6"
  }
 },
 "nbformat": 4,
 "nbformat_minor": 4
}
