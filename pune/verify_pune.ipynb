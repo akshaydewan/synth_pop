{
 "cells": [
  {
   "cell_type": "code",
   "execution_count": 1,
   "metadata": {
    "pycharm": {
     "is_executing": false
    }
   },
   "outputs": [],
   "source": [
    "import pandas as pd\n",
    "\n",
    "df = pd.read_csv('output.csv')"
   ]
  },
  {
   "cell_type": "code",
   "execution_count": 3,
   "metadata": {
    "pycharm": {
     "is_executing": false
    }
   },
   "outputs": [
    {
     "data": {
      "text/plain": [
       "age\n",
       "00-04    0.890688\n",
       "05-09    0.716136\n",
       "10-14    0.653697\n",
       "15-19    0.624422\n",
       "20-24    0.670455\n",
       "25-29    0.902961\n",
       "30-34    0.488511\n",
       "35-39    0.317974\n",
       "40-44    0.285663\n",
       "45-49    0.212963\n",
       "50-54    1.364359\n",
       "55-59    0.807415\n",
       "60-64    0.314229\n",
       "65-69    0.934687\n",
       "70-74    1.254495\n",
       "75-79    0.488804\n",
       "80+      0.022568\n",
       "dtype: float64"
      ]
     },
     "metadata": {},
     "output_type": "display_data"
    },
    {
     "data": {
      "text/plain": [
       "age\n",
       "00-04    0.078052\n",
       "05-09    0.607038\n",
       "10-14    0.878575\n",
       "15-19    0.660287\n",
       "20-24    0.909786\n",
       "25-29    0.639464\n",
       "30-34    0.222431\n",
       "35-39    1.182771\n",
       "40-44    0.875078\n",
       "45-49    0.890174\n",
       "50-54    0.503272\n",
       "55-59    0.919660\n",
       "60-64    0.239702\n",
       "65-69    0.742051\n",
       "70-74    0.907980\n",
       "75-79    1.047302\n",
       "80+      1.422683\n",
       "dtype: float64"
      ]
     },
     "metadata": {},
     "output_type": "display_data"
    }
   ],
   "source": [
    "# Checking Age distribution\n",
    "age_grouping_with_sex = df.groupby(['age', 'sex']).count()['ind']\n",
    "age_grouping_with_sex = age_grouping_with_sex.unstack()\n",
    "\n",
    "expected_df = pd.read_csv('age_dist_by_sex.csv', index_col='Age_Group')\n",
    "expected_df = expected_df.drop('All ages').drop('Age not stated')\n",
    "\n",
    "error_female_ages = (age_grouping_with_sex['F'] - expected_df['Total_Females'])/expected_df['Total_Females']\n",
    "display(error_female_ages * 100)\n",
    "\n",
    "error_male_ages = (age_grouping_with_sex['M'] - expected_df['Total_Males'])/expected_df['Total_Males']\n",
    "display(error_male_ages * 100)"
   ]
  },
  {
   "cell_type": "code",
   "execution_count": 5,
   "metadata": {
    "pycharm": {
     "is_executing": false
    }
   },
   "outputs": [
    {
     "data": {
      "text/plain": [
       "age\n",
       "05-09    0.497159\n",
       "10-14   -2.527691\n",
       "15-19    0.347270\n",
       "20-24    0.856162\n",
       "25-29    0.429182\n",
       "30-34    0.214068\n",
       "35-39    1.100003\n",
       "40-49    0.899786\n",
       "50-59    0.648785\n",
       "60-69    0.989843\n",
       "70-79    0.355638\n",
       "80+     -1.069519\n",
       "dtype: float64"
      ]
     },
     "metadata": {},
     "output_type": "display_data"
    },
    {
     "data": {
      "text/plain": [
       "age\n",
       "05-09    2.775369\n",
       "10-14    2.396088\n",
       "15-19    2.082751\n",
       "20-24    0.839772\n",
       "25-29    0.600939\n",
       "30-34    0.603039\n",
       "35-39    0.422607\n",
       "40-49   -0.323683\n",
       "50-59    1.515737\n",
       "60-69   -1.065318\n",
       "70-79    0.473322\n",
       "80+      1.432665\n",
       "dtype: float64"
      ]
     },
     "metadata": {},
     "output_type": "display_data"
    }
   ],
   "source": [
    "working_age_sex = df.groupby(['age', 'working', 'sex'])\n",
    "working_age_sex = working_age_sex.count()['ind'].unstack().unstack()\n",
    "\n",
    "s = working_age_sex.loc[\"40-44\"] + working_age_sex.loc[\"45-49\"]\n",
    "s.name = \"40-49\"\n",
    "working_age_sex = working_age_sex.append(s).drop(\"40-44\").drop('45-49')\n",
    "\n",
    "s = working_age_sex.loc[\"50-54\"] + working_age_sex.loc[\"55-59\"]\n",
    "s.name = \"50-59\"\n",
    "working_age_sex = working_age_sex.append(s).drop(\"50-54\").drop(\"55-59\")\n",
    "\n",
    "s = working_age_sex.loc[\"60-64\"] + working_age_sex.loc[\"65-69\"]\n",
    "s.name = \"60-69\"\n",
    "working_age_sex = working_age_sex.append(s).drop(\"60-64\").drop(\"65-69\")\n",
    "\n",
    "s = working_age_sex.loc[\"70-74\"] + working_age_sex.loc[\"75-79\"]\n",
    "s.name = \"70-79\"\n",
    "working_age_sex = working_age_sex.append(s).drop(\"70-74\").drop(\"75-79\")\n",
    "\n",
    "working_age_sex = working_age_sex.drop('00-04').sort_index()\n",
    "\n",
    "expected_df = pd.read_csv('workers.csv', index_col='Age_Group').drop('Total').drop('Age not stated')\n",
    "\n",
    "male_workers_err = (working_age_sex[\"M\"][True] - expected_df['Main_Workers_Males']) / expected_df['Main_Workers_Males']\n",
    "\n",
    "female_workers_err = (working_age_sex[\"F\"][True] - expected_df['Main_Workers_Females']) / expected_df['Main_Workers_Females']\n",
    "\n",
    "display(male_workers_err * 100)\n",
    "display(female_workers_err * 100)\n"
   ]
  },
  {
   "cell_type": "code",
   "execution_count": 6,
   "metadata": {
    "pycharm": {
     "is_executing": false
    }
   },
   "outputs": [
    {
     "data": {
      "text/plain": [
       "0.2003006658233141"
      ]
     },
     "execution_count": 6,
     "metadata": {},
     "output_type": "execute_result"
    }
   ],
   "source": [
    "total_uses_pub_transport = df.groupby('pub_transport').count()[\"ind\"][True]\n",
    "total_working = df.groupby('working').count()[\"ind\"][True]\n",
    "total_uses_pub_transport / total_working"
   ]
  },
  {
   "cell_type": "code",
   "execution_count": 6,
   "metadata": {
    "pycharm": {
     "is_executing": false
    }
   },
   "outputs": [],
   "source": []
  }
 ],
 "metadata": {
  "kernelspec": {
   "display_name": "Python 3",
   "language": "python",
   "name": "python3"
  },
  "language_info": {
   "codemirror_mode": {
    "name": "ipython",
    "version": 3
   },
   "file_extension": ".py",
   "mimetype": "text/x-python",
   "name": "python",
   "nbconvert_exporter": "python",
   "pygments_lexer": "ipython3",
   "version": "3.7.6"
  }
 },
 "nbformat": 4,
 "nbformat_minor": 4
}